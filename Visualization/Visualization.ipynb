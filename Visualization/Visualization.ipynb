{
 "cells": [
  {
   "cell_type": "code",
   "execution_count": 1,
   "metadata": {},
   "outputs": [],
   "source": [
    "# required imports\n",
    "\n",
    "import xlrd\n",
    "import random\n",
    "import pandas as pd\n",
    "import seaborn as sns\n",
    "import geopandas as gpd\n",
    "import matplotlib.pyplot as plt\n",
    "\n",
    "sns.set_style('whitegrid')"
   ]
  },
  {
   "cell_type": "code",
   "execution_count": null,
   "metadata": {},
   "outputs": [],
   "source": [
    "# Read the first sheet from the Excel File\n",
    "\n",
    "file_name = '../DistrictWiseData.xlsm'\n",
    "wb = xlrd.open_workbook(file_name)\n",
    "sheetPM2p5 = wb.sheet_by_name('PM2.5')\n",
    "sheetPM10 = wb.sheet_by_name('PM10')\n",
    "sheetOzone = wb.sheet_by_name('Ozone')"
   ]
  },
  {
   "cell_type": "code",
   "execution_count": null,
   "metadata": {},
   "outputs": [],
   "source": [
    "# Some pre-processing to prepare the DataFrame outof the excel file\n",
    "\n",
    "print('Air Quality Reported During the Year 2019 From 231 Stations spread across 130 cities')\n",
    "district_name = None\n",
    "key = None\n",
    "info_list = []\n",
    "info = dict()\n",
    "\n",
    "for i in range(sheet.nrows):\n",
    "    numbers = list()\n",
    "    for j in range(365):\n",
    "        value = sheet.cell_value(i, j)\n",
    "        if type(value) is str and not value.split():\n",
    "            continue\n",
    "        if value == 'SL':\n",
    "            break\n",
    "        if j == 0 and type(value) is str and 'Cases Reported during the Year' in value:\n",
    "            state_name = value.replace(prefix, '').replace(suffix, '')\n",
    "            info['state_name'] = state_name\n",
    "            break\n",
    "        if j == 1 and type(value) is str and value.split():\n",
    "            key = value\n",
    "            info[key] = None\n",
    "        if type(value) is float:\n",
    "            numbers.append(value)\n",
    "    if numbers:\n",
    "        info[key] = numbers[1:]\n",
    "        n_keys = len(list(info.keys()))\n",
    "        if n_keys == 16:\n",
    "            info_list.append(info)\n",
    "            info = dict()\n",
    "\n",
    "keys = list(info_list[0].keys())\n",
    "columns = keys.copy()\n",
    "columns.insert(1,'Year')\n",
    "\n",
    "final_list = list()\n",
    "\n",
    "for il in info_list:\n",
    "    year = 2001\n",
    "    for i in range(15):\n",
    "        temp_list = list()\n",
    "        for k in keys[1:]:\n",
    "            temp_list.append(il.get(k)[i])\n",
    "        temp_list.insert(0, il.get('state_name').strip())\n",
    "        temp_list.insert(1, year)\n",
    "        year += 1\n",
    "        final_list.append(temp_list)"
   ]
  },
  {
   "cell_type": "code",
   "execution_count": null,
   "metadata": {},
   "outputs": [],
   "source": [
    "# preview the prepared DataFrame\n",
    "\n",
    "df = pd.DataFrame(final_list, columns=columns)\n",
    "df.head()"
   ]
  },
  {
   "cell_type": "code",
   "execution_count": null,
   "metadata": {},
   "outputs": [],
   "source": [
    "# Keeping only the required columns\n",
    "\n",
    "state_wise_total_crimes = df[['state_name', 'Total Crimes against Women', 'Year']]\n",
    "data_for_map = state_wise_total_crimes[state_wise_total_crimes['Year']==2015]\n",
    "data_for_map.head()"
   ]
  },
  {
   "cell_type": "code",
   "execution_count": 5,
   "metadata": {},
   "outputs": [
    {
     "output_type": "execute_result",
     "data": {
      "text/plain": "                         STATE               DISTRICT  \\\n0  Andaman and Nicobar Islands                Nicobar   \n1  Andaman and Nicobar Islands  NorthandMiddleAndaman   \n2  Andaman and Nicobar Islands           SouthAndaman   \n3               Andhra Pradesh              Anantapur   \n4               Andhra Pradesh               Chittoor   \n\n                                             MAPKEY  \\\n0                Andaman and Nicobar IslandsNicobar   \n1  Andaman and Nicobar IslandsNorthandMiddleAndaman   \n2           Andaman and Nicobar IslandsSouthAndaman   \n3                           Andhra PradeshAnantapur   \n4                            Andhra PradeshChittoor   \n\n                                            geometry  \n0  MULTIPOLYGON (((93.78772736000001 6.85264015, ...  \n1  MULTIPOLYGON (((92.93898009999999 12.22386074,...  \n2  MULTIPOLYGON (((92.47972107 10.52056026, 92.47...  \n3  POLYGON ((77.71420288 13.76079082, 77.7131424 ...  \n4  POLYGON ((78.46292877 12.63537025, 78.4618988 ...  ",
      "text/html": "<div>\n<style scoped>\n    .dataframe tbody tr th:only-of-type {\n        vertical-align: middle;\n    }\n\n    .dataframe tbody tr th {\n        vertical-align: top;\n    }\n\n    .dataframe thead th {\n        text-align: right;\n    }\n</style>\n<table border=\"1\" class=\"dataframe\">\n  <thead>\n    <tr style=\"text-align: right;\">\n      <th></th>\n      <th>STATE</th>\n      <th>DISTRICT</th>\n      <th>MAPKEY</th>\n      <th>geometry</th>\n    </tr>\n  </thead>\n  <tbody>\n    <tr>\n      <th>0</th>\n      <td>Andaman and Nicobar Islands</td>\n      <td>Nicobar</td>\n      <td>Andaman and Nicobar IslandsNicobar</td>\n      <td>MULTIPOLYGON (((93.78772736000001 6.85264015, ...</td>\n    </tr>\n    <tr>\n      <th>1</th>\n      <td>Andaman and Nicobar Islands</td>\n      <td>NorthandMiddleAndaman</td>\n      <td>Andaman and Nicobar IslandsNorthandMiddleAndaman</td>\n      <td>MULTIPOLYGON (((92.93898009999999 12.22386074,...</td>\n    </tr>\n    <tr>\n      <th>2</th>\n      <td>Andaman and Nicobar Islands</td>\n      <td>SouthAndaman</td>\n      <td>Andaman and Nicobar IslandsSouthAndaman</td>\n      <td>MULTIPOLYGON (((92.47972107 10.52056026, 92.47...</td>\n    </tr>\n    <tr>\n      <th>3</th>\n      <td>Andhra Pradesh</td>\n      <td>Anantapur</td>\n      <td>Andhra PradeshAnantapur</td>\n      <td>POLYGON ((77.71420288 13.76079082, 77.7131424 ...</td>\n    </tr>\n    <tr>\n      <th>4</th>\n      <td>Andhra Pradesh</td>\n      <td>Chittoor</td>\n      <td>Andhra PradeshChittoor</td>\n      <td>POLYGON ((78.46292877 12.63537025, 78.4618988 ...</td>\n    </tr>\n  </tbody>\n</table>\n</div>"
     },
     "metadata": {},
     "execution_count": 5
    }
   ],
   "source": [
    "# reading the district wise shapefile of India in a GeoDataFrame and preview it\n",
    "\n",
    "fp = \"DistrictShapes.xlsx\"\n",
    "map_df = pd.read_excel(fp)\n",
    "map_df.head()"
   ]
  },
  {
   "cell_type": "code",
   "execution_count": 6,
   "metadata": {},
   "outputs": [
    {
     "output_type": "error",
     "ename": "TypeError",
     "evalue": "no numeric data to plot",
     "traceback": [
      "\u001b[0;31m---------------------------------------------------------------------------\u001b[0m",
      "\u001b[0;31mTypeError\u001b[0m                                 Traceback (most recent call last)",
      "\u001b[0;32m<ipython-input-6-208ef73d17d1>\u001b[0m in \u001b[0;36m<module>\u001b[0;34m\u001b[0m\n\u001b[1;32m      2\u001b[0m \u001b[0;34m\u001b[0m\u001b[0m\n\u001b[1;32m      3\u001b[0m \u001b[0mmap_df\u001b[0m \u001b[0;34m=\u001b[0m \u001b[0mmap_df\u001b[0m\u001b[0;34m[\u001b[0m\u001b[0;34m[\u001b[0m\u001b[0;34m'MAPKEY'\u001b[0m\u001b[0;34m,\u001b[0m \u001b[0;34m'geometry'\u001b[0m\u001b[0;34m]\u001b[0m\u001b[0;34m]\u001b[0m\u001b[0;34m\u001b[0m\u001b[0;34m\u001b[0m\u001b[0m\n\u001b[0;32m----> 4\u001b[0;31m \u001b[0mmap_df\u001b[0m\u001b[0;34m.\u001b[0m\u001b[0mplot\u001b[0m\u001b[0;34m(\u001b[0m\u001b[0;34m)\u001b[0m\u001b[0;34m\u001b[0m\u001b[0;34m\u001b[0m\u001b[0m\n\u001b[0m",
      "\u001b[0;32m/usr/local/lib/python3.7/site-packages/pandas/plotting/_core.py\u001b[0m in \u001b[0;36m__call__\u001b[0;34m(self, *args, **kwargs)\u001b[0m\n\u001b[1;32m    845\u001b[0m                     \u001b[0mdata\u001b[0m\u001b[0;34m.\u001b[0m\u001b[0mcolumns\u001b[0m \u001b[0;34m=\u001b[0m \u001b[0mlabel_name\u001b[0m\u001b[0;34m\u001b[0m\u001b[0;34m\u001b[0m\u001b[0m\n\u001b[1;32m    846\u001b[0m \u001b[0;34m\u001b[0m\u001b[0m\n\u001b[0;32m--> 847\u001b[0;31m         \u001b[0;32mreturn\u001b[0m \u001b[0mplot_backend\u001b[0m\u001b[0;34m.\u001b[0m\u001b[0mplot\u001b[0m\u001b[0;34m(\u001b[0m\u001b[0mdata\u001b[0m\u001b[0;34m,\u001b[0m \u001b[0mkind\u001b[0m\u001b[0;34m=\u001b[0m\u001b[0mkind\u001b[0m\u001b[0;34m,\u001b[0m \u001b[0;34m**\u001b[0m\u001b[0mkwargs\u001b[0m\u001b[0;34m)\u001b[0m\u001b[0;34m\u001b[0m\u001b[0;34m\u001b[0m\u001b[0m\n\u001b[0m\u001b[1;32m    848\u001b[0m \u001b[0;34m\u001b[0m\u001b[0m\n\u001b[1;32m    849\u001b[0m     \u001b[0m__call__\u001b[0m\u001b[0;34m.\u001b[0m\u001b[0m__doc__\u001b[0m \u001b[0;34m=\u001b[0m \u001b[0m__doc__\u001b[0m\u001b[0;34m\u001b[0m\u001b[0;34m\u001b[0m\u001b[0m\n",
      "\u001b[0;32m/usr/local/lib/python3.7/site-packages/pandas/plotting/_matplotlib/__init__.py\u001b[0m in \u001b[0;36mplot\u001b[0;34m(data, kind, **kwargs)\u001b[0m\n\u001b[1;32m     59\u001b[0m             \u001b[0mkwargs\u001b[0m\u001b[0;34m[\u001b[0m\u001b[0;34m\"ax\"\u001b[0m\u001b[0;34m]\u001b[0m \u001b[0;34m=\u001b[0m \u001b[0mgetattr\u001b[0m\u001b[0;34m(\u001b[0m\u001b[0max\u001b[0m\u001b[0;34m,\u001b[0m \u001b[0;34m\"left_ax\"\u001b[0m\u001b[0;34m,\u001b[0m \u001b[0max\u001b[0m\u001b[0;34m)\u001b[0m\u001b[0;34m\u001b[0m\u001b[0;34m\u001b[0m\u001b[0m\n\u001b[1;32m     60\u001b[0m     \u001b[0mplot_obj\u001b[0m \u001b[0;34m=\u001b[0m \u001b[0mPLOT_CLASSES\u001b[0m\u001b[0;34m[\u001b[0m\u001b[0mkind\u001b[0m\u001b[0;34m]\u001b[0m\u001b[0;34m(\u001b[0m\u001b[0mdata\u001b[0m\u001b[0;34m,\u001b[0m \u001b[0;34m**\u001b[0m\u001b[0mkwargs\u001b[0m\u001b[0;34m)\u001b[0m\u001b[0;34m\u001b[0m\u001b[0;34m\u001b[0m\u001b[0m\n\u001b[0;32m---> 61\u001b[0;31m     \u001b[0mplot_obj\u001b[0m\u001b[0;34m.\u001b[0m\u001b[0mgenerate\u001b[0m\u001b[0;34m(\u001b[0m\u001b[0;34m)\u001b[0m\u001b[0;34m\u001b[0m\u001b[0;34m\u001b[0m\u001b[0m\n\u001b[0m\u001b[1;32m     62\u001b[0m     \u001b[0mplot_obj\u001b[0m\u001b[0;34m.\u001b[0m\u001b[0mdraw\u001b[0m\u001b[0;34m(\u001b[0m\u001b[0;34m)\u001b[0m\u001b[0;34m\u001b[0m\u001b[0;34m\u001b[0m\u001b[0m\n\u001b[1;32m     63\u001b[0m     \u001b[0;32mreturn\u001b[0m \u001b[0mplot_obj\u001b[0m\u001b[0;34m.\u001b[0m\u001b[0mresult\u001b[0m\u001b[0;34m\u001b[0m\u001b[0;34m\u001b[0m\u001b[0m\n",
      "\u001b[0;32m/usr/local/lib/python3.7/site-packages/pandas/plotting/_matplotlib/core.py\u001b[0m in \u001b[0;36mgenerate\u001b[0;34m(self)\u001b[0m\n\u001b[1;32m    259\u001b[0m     \u001b[0;32mdef\u001b[0m \u001b[0mgenerate\u001b[0m\u001b[0;34m(\u001b[0m\u001b[0mself\u001b[0m\u001b[0;34m)\u001b[0m\u001b[0;34m:\u001b[0m\u001b[0;34m\u001b[0m\u001b[0;34m\u001b[0m\u001b[0m\n\u001b[1;32m    260\u001b[0m         \u001b[0mself\u001b[0m\u001b[0;34m.\u001b[0m\u001b[0m_args_adjust\u001b[0m\u001b[0;34m(\u001b[0m\u001b[0;34m)\u001b[0m\u001b[0;34m\u001b[0m\u001b[0;34m\u001b[0m\u001b[0m\n\u001b[0;32m--> 261\u001b[0;31m         \u001b[0mself\u001b[0m\u001b[0;34m.\u001b[0m\u001b[0m_compute_plot_data\u001b[0m\u001b[0;34m(\u001b[0m\u001b[0;34m)\u001b[0m\u001b[0;34m\u001b[0m\u001b[0;34m\u001b[0m\u001b[0m\n\u001b[0m\u001b[1;32m    262\u001b[0m         \u001b[0mself\u001b[0m\u001b[0;34m.\u001b[0m\u001b[0m_setup_subplots\u001b[0m\u001b[0;34m(\u001b[0m\u001b[0;34m)\u001b[0m\u001b[0;34m\u001b[0m\u001b[0;34m\u001b[0m\u001b[0m\n\u001b[1;32m    263\u001b[0m         \u001b[0mself\u001b[0m\u001b[0;34m.\u001b[0m\u001b[0m_make_plot\u001b[0m\u001b[0;34m(\u001b[0m\u001b[0;34m)\u001b[0m\u001b[0;34m\u001b[0m\u001b[0;34m\u001b[0m\u001b[0m\n",
      "\u001b[0;32m/usr/local/lib/python3.7/site-packages/pandas/plotting/_matplotlib/core.py\u001b[0m in \u001b[0;36m_compute_plot_data\u001b[0;34m(self)\u001b[0m\n\u001b[1;32m    408\u001b[0m         \u001b[0;31m# no non-numeric frames or series allowed\u001b[0m\u001b[0;34m\u001b[0m\u001b[0;34m\u001b[0m\u001b[0;34m\u001b[0m\u001b[0m\n\u001b[1;32m    409\u001b[0m         \u001b[0;32mif\u001b[0m \u001b[0mis_empty\u001b[0m\u001b[0;34m:\u001b[0m\u001b[0;34m\u001b[0m\u001b[0;34m\u001b[0m\u001b[0m\n\u001b[0;32m--> 410\u001b[0;31m             \u001b[0;32mraise\u001b[0m \u001b[0mTypeError\u001b[0m\u001b[0;34m(\u001b[0m\u001b[0;34m\"no numeric data to plot\"\u001b[0m\u001b[0;34m)\u001b[0m\u001b[0;34m\u001b[0m\u001b[0;34m\u001b[0m\u001b[0m\n\u001b[0m\u001b[1;32m    411\u001b[0m \u001b[0;34m\u001b[0m\u001b[0m\n\u001b[1;32m    412\u001b[0m         \u001b[0;31m# GH25587: cast ExtensionArray of pandas (IntegerArray, etc.) to\u001b[0m\u001b[0;34m\u001b[0m\u001b[0;34m\u001b[0m\u001b[0;34m\u001b[0m\u001b[0m\n",
      "\u001b[0;31mTypeError\u001b[0m: no numeric data to plot"
     ]
    }
   ],
   "source": [
    "# keep required columns and plot default map\n",
    "\n",
    "map_df = map_df[['MAPKEY', 'geometry']]\n",
    "map_df.plot()"
   ]
  },
  {
   "cell_type": "code",
   "execution_count": null,
   "metadata": {},
   "outputs": [],
   "source": [
    "# read the district wise excel file and preview it\n",
    "\n",
    "district_wise = pd.read_excel('district_wise.xls')\n",
    "district_wise.head()"
   ]
  },
  {
   "cell_type": "code",
   "execution_count": null,
   "metadata": {},
   "outputs": [],
   "source": [
    "# keeping only the required columns\n",
    "\n",
    "district_wise = district_wise[['District/ Area', 'Total Crimes against Women']]"
   ]
  },
  {
   "cell_type": "code",
   "execution_count": null,
   "metadata": {},
   "outputs": [],
   "source": [
    "# Join both the DataFrames by district names\n",
    "\n",
    "merged = map_df.set_index('NAME_2').join(district_wise.set_index('District/ Area'))\n",
    "merged.head()"
   ]
  },
  {
   "cell_type": "code",
   "execution_count": null,
   "metadata": {},
   "outputs": [],
   "source": [
    "# NA Check\n",
    "\n",
    "merged.isna().sum()"
   ]
  },
  {
   "cell_type": "markdown",
   "metadata": {},
   "source": [
    "##### Seems like there are around 185 district names that are either mispelled or missing\n",
    "##### I am not going to do correct these manually instead we will impute them with the mean (even though that will make our data incorrect but the propose of this notebook is to show you how to use GeoPandas to plot District wise stats on the Map of India)"
   ]
  },
  {
   "cell_type": "code",
   "execution_count": null,
   "metadata": {},
   "outputs": [],
   "source": [
    "# Impute missing values by mean \n",
    "\n",
    "merged['Total Crimes against Women'].fillna(merged['Total Crimes against Women'].mean(), inplace=True)\n",
    "merged.isna().sum()"
   ]
  },
  {
   "cell_type": "code",
   "execution_count": null,
   "metadata": {},
   "outputs": [],
   "source": [
    "# summary\n",
    "\n",
    "merged.describe()"
   ]
  },
  {
   "cell_type": "code",
   "execution_count": null,
   "metadata": {},
   "outputs": [],
   "source": [
    "# create figure and axes for Matplotlib and set the title\n",
    "fig, ax = plt.subplots(1, figsize=(10, 6))\n",
    "ax.axis('off')\n",
    "ax.set_title('District Wise Crime against women in India in 2015', fontdict={'fontsize': '25', 'fontweight' : '3'})\n",
    "\n",
    "# plot the figure\n",
    "merged.plot(column='Total Crimes against Women', cmap='YlOrRd', linewidth=0.8, ax=ax, edgecolor='0.8', legend=True)"
   ]
  },
  {
   "cell_type": "code",
   "execution_count": null,
   "metadata": {},
   "outputs": [],
   "source": [
    "# We save the output as a PNG image\n",
    "\n",
    "fig.savefig(\"District_wise.png\", dpi=100)"
   ]
  },
  {
   "cell_type": "code",
   "execution_count": null,
   "metadata": {},
   "outputs": [],
   "source": [
    "# reading the district wise shapefile of India in a GeoDataFrame and preview it\n",
    "\n",
    "fp = \"gadm36_IND_shp/gadm36_IND_2.shp\"\n",
    "map_df = gpd.read_file(fp)\n",
    "map_df.head()"
   ]
  },
  {
   "cell_type": "code",
   "execution_count": null,
   "metadata": {},
   "outputs": [],
   "source": [
    "map_df = map_df[['NAME_1', 'NAME_2', 'geometry']]\n",
    "map_df = map_df[map_df['NAME_1']=='Maharashtra']\n",
    "map_df.plot()"
   ]
  },
  {
   "cell_type": "code",
   "execution_count": null,
   "metadata": {},
   "outputs": [],
   "source": [
    "district_wise = pd.read_excel('district_wise.xls')\n",
    "district_wise.head()"
   ]
  },
  {
   "cell_type": "code",
   "execution_count": null,
   "metadata": {},
   "outputs": [],
   "source": [
    "# keeping only the required columns\n",
    "\n",
    "district_wise = district_wise[['State/ UT', 'District/ Area', 'Total Crimes against Women']]\n",
    "district_wise = district_wise[district_wise['State/ UT']=='Maharashtra']\n",
    "district_wise.head()"
   ]
  },
  {
   "cell_type": "code",
   "execution_count": null,
   "metadata": {},
   "outputs": [],
   "source": [
    "# Correct spellings of states from out dataframe to match those of GeoDataframe\n",
    "# I corrected these names manually\n",
    "\n",
    "district_wise['District/ Area'].iloc[0] = 'Ahmadnagar'\n",
    "\n",
    "\n",
    "# 1449 is the sum of Amravati Commr and Amravati Rural from the district wise dataframe\n",
    "district_wise = district_wise.append({'State/ UT': 'Maharashtra', 'District/ Area':'Amravati','Total Crimes against Women':1449.0}, ignore_index=True)\n",
    "\n",
    "# 1449 is the sum of Aurangabad Commr and Aurangabad Rural from the district wise Dataframe\n",
    "# same is done for rest of the cities\n",
    "district_wise = district_wise.append({'State/ UT': 'Maharashtra', 'District/ Area':'Aurangabad','Total Crimes against Women':1421.0}, ignore_index=True)\n",
    "\n",
    "district_wise['District/ Area'].iloc[6] = 'Bid'\n",
    "\n",
    "district_wise['District/ Area'].iloc[8] = 'Buldana'\n",
    "\n",
    "district_wise['District/ Area'].iloc[11]  = 'Garhchiroli'\n",
    "\n",
    "district_wise['District/ Area'].iloc[12]  = 'Gondiya'\n",
    "\n",
    "district_wise['District/ Area'].iloc[18] = 'Mumbai City'\n",
    "\n",
    "district_wise['District/ Area'].iloc[19] = 'Mumbai Suburban'\n",
    "\n",
    "district_wise = district_wise.append({'State/ UT': 'Maharashtra', 'District/ Area':'Nagpur','Total Crimes against Women':1754.0}, ignore_index=True)\n",
    "\n",
    "district_wise = district_wise.append({'State/ UT': 'Maharashtra', 'District/ Area':'Nashik','Total Crimes against Women':1416.0}, ignore_index=True)\n",
    "\n",
    "district_wise = district_wise.append({'State/ UT': 'Maharashtra', 'District/ Area':'Pune','Total Crimes against Women':1993.0}, ignore_index=True)\n",
    "\n",
    "district_wise['District/ Area'].iloc[34] = 'Raigarh'\n",
    "\n",
    "district_wise = district_wise.append({'State/ UT': 'Maharashtra', 'District/ Area':'Thane','Total Crimes against Women':2289.0}, ignore_index=True)\n",
    "\n",
    "district_wise = district_wise.append({'State/ UT': 'Maharashtra', 'District/ Area':'Solapur','Total Crimes against Women':874.0}, ignore_index=True)"
   ]
  },
  {
   "cell_type": "code",
   "execution_count": null,
   "metadata": {},
   "outputs": [],
   "source": [
    "# Join both the DataFrames by district names\n",
    "\n",
    "merged = map_df.set_index('NAME_2').join(district_wise.set_index('District/ Area'))\n",
    "merged.head()"
   ]
  },
  {
   "cell_type": "code",
   "execution_count": null,
   "metadata": {},
   "outputs": [],
   "source": [
    "# NA Check\n",
    "\n",
    "merged.isna().sum()"
   ]
  },
  {
   "cell_type": "code",
   "execution_count": null,
   "metadata": {},
   "outputs": [],
   "source": [
    "# summary\n",
    "\n",
    "merged.describe()"
   ]
  },
  {
   "cell_type": "code",
   "execution_count": null,
   "metadata": {},
   "outputs": [],
   "source": [
    "# create figure and axes for Matplotlib and set the title\n",
    "fig, ax = plt.subplots(1, figsize=(10, 6))\n",
    "ax.axis('off')\n",
    "ax.set_title('District Wise Crime against women in Maharastra in 2015', fontdict={'fontsize': '25', 'fontweight' : '3'})\n",
    "\n",
    "# plot the figure\n",
    "merged.plot(column='Total Crimes against Women', cmap='YlOrRd', linewidth=0.8, ax=ax, edgecolor='0.8', legend=True)"
   ]
  },
  {
   "cell_type": "code",
   "execution_count": null,
   "metadata": {},
   "outputs": [],
   "source": [
    "# Saving the output as a PNG image\n",
    "\n",
    "fig.savefig(\"Maharashtra.png\", dpi=600)"
   ]
  }
 ],
 "metadata": {
  "kernelspec": {
   "display_name": "Python 3.7.2 64-bit",
   "language": "python",
   "name": "python37264bitefdd2b3f380145f7b1300b6cf9865033"
  },
  "language_info": {
   "codemirror_mode": {
    "name": "ipython",
    "version": 3
   },
   "file_extension": ".py",
   "mimetype": "text/x-python",
   "name": "python",
   "nbconvert_exporter": "python",
   "pygments_lexer": "ipython3",
   "version": "3.7.7-final"
  }
 },
 "nbformat": 4,
 "nbformat_minor": 4
}
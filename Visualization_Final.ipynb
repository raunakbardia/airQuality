{
 "cells": [
  {
   "cell_type": "code",
   "execution_count": 1,
   "metadata": {},
   "outputs": [],
   "source": [
    "# required imports\n",
    "\n",
    "import xlrd\n",
    "import random\n",
    "import pandas as pd\n",
    "import seaborn as sns\n",
    "import geopandas as gpd\n",
    "import matplotlib\n",
    "from datetime import datetime, timedelta\n",
    "import matplotlib.pyplot as plt\n",
    "from matplotlib.colors import LinearSegmentedColormap\n",
    "import matplotlib.cm as cm\n",
    "\n",
    "sns.set_style('whitegrid')"
   ]
  },
  {
   "cell_type": "code",
   "execution_count": 2,
   "metadata": {},
   "outputs": [],
   "source": [
    "# Read the first sheet from the Excel File\n",
    "\n",
    "file_name = 'DistrictWiseData.xlsm'\n",
    "pm2p5_df = pd.read_excel(file_name, sheet_name = 3)\n",
    "pm10_df = pd.read_excel(file_name, sheet_name = 6)\n",
    "ozone_df = pd.read_excel(file_name, sheet_name = 9)\n"
   ]
  },
  {
   "cell_type": "code",
   "execution_count": 3,
   "metadata": {},
   "outputs": [],
   "source": [
    "# Some pre-processing to prepare the DataFrame outof the excel file\n",
    "\n",
    "correctedNamesFile = \"Maps/Mapping_Mapdistrictkey_with_Wikipediadistrictkey.xlsx\"\n",
    "names_df = pd.read_excel(correctedNamesFile)\n",
    "mapkey = names_df[\"MAPKEY\"]\n",
    "fp = \"Maps/gadm36_IND_shp/gadm36_IND_2.shp\"\n",
    "map_df = gpd.read_file(fp)\n",
    "map_df = map_df[[ 'geometry']]\n",
    "map_df = map_df.join(mapkey)"
   ]
  },
  {
   "cell_type": "code",
   "execution_count": 4,
   "metadata": {},
   "outputs": [],
   "source": [
    "# Join both the DataFrames by district names\n",
    "\n",
    "pm2p5merged = map_df.set_index('MAPKEY').join(pm2p5_df.set_index('MapKey'))\n",
    "pm10merged = map_df.set_index('MAPKEY').join(pm10_df.set_index('MapKey'))\n",
    "ozonemerged = map_df.set_index('MAPKEY').join(ozone_df.set_index('MapKey'))"
   ]
  },
  {
   "cell_type": "code",
   "execution_count": 5,
   "metadata": {},
   "outputs": [],
   "source": [
    "# Initializing Date\n",
    "\n",
    "startDate = \"31/12/18\"\n",
    "Date = datetime.strptime(startDate, \"%d/%m/%y\")"
   ]
  },
  {
   "cell_type": "code",
   "execution_count": 6,
   "metadata": {},
   "outputs": [],
   "source": [
    "# Overlay Map Cell\n",
    "fp = \"Maps/censusofindiadistricts/2011_Dist.shp\"\n",
    "completeMap_df = gpd.read_file(fp)\n",
    "completeMap_df = completeMap_df[['DISTRICT', 'ST_NM', 'geometry']]"
   ]
  },
  {
   "cell_type": "code",
   "execution_count": 9,
   "metadata": {},
   "outputs": [],
   "source": [
    "for x in range (185,366):\n",
    "    newDate = Date + timedelta(days = x)\n",
    "    str = \"Day {0}\".format(x)\n",
    "    \n",
    "    # Fig PM2p5\n",
    "    fig, ax = plt.subplots(1, figsize=(10, 6))\n",
    "    ax.axis('off')\n",
    "    titleStr = \"District Wise PM 2.5 Levels in India on \" + newDate.strftime(\"%d/%m/%y\")\n",
    "    ax.set_title(titleStr, fontdict={'fontsize': '25', 'fontweight' : '3'})\n",
    "    levels = [0, 1, 2, 3, 4, 5, 6, 7]\n",
    "    colors = ['gray', 'darkgreen', 'lawngreen', 'yellow', 'orange', 'red', 'maroon']\n",
    "    cMapNew, norm = matplotlib.colors.from_levels_and_colors(levels, colors)\n",
    "    saveFileName = \"PM2p5/\" + str + \".png\"\n",
    "    underlay = completeMap_df.plot(color = 'gray',linewidth=0, edgecolor='0.1',ax=ax)\n",
    "    pm2p5merged.plot(column=str, cmap = cMapNew, norm = norm, linewidth=0, ax=ax, edgecolor='0.1', legend=True)\n",
    "    fig.savefig(saveFileName, dpi=600)\n",
    "    plt.close()\n",
    "\n",
    "    # Fig PM10\n",
    "    fig, ax = plt.subplots(1, figsize=(10, 6))\n",
    "    ax.axis('off')\n",
    "    titleStr = \"District Wise PM 10 Levels in India on \" + newDate.strftime(\"%d/%m/%y\")\n",
    "    ax.set_title(titleStr, fontdict={'fontsize': '25', 'fontweight' : '3'})\n",
    "    levels = [0, 1, 2, 3, 4, 5, 6, 7]\n",
    "    colors = ['gray', 'darkgreen', 'lawngreen', 'yellow', 'orange', 'red', 'maroon']\n",
    "    cMapNew, norm = matplotlib.colors.from_levels_and_colors(levels, colors)\n",
    "    saveFileName = \"PM10/\" + str + \".png\"\n",
    "    underlay = completeMap_df.plot(color = 'gray',linewidth=0, edgecolor='0.1',ax=ax)\n",
    "    pm10plot = pm10merged.plot(column=str, cmap=cMapNew, norm = norm, linewidth=0, ax=ax, edgecolor='0.1', legend=True)\n",
    "    #pm10plot.legend(['Data Unavailable', '0 - 50','51 - 100','101 - 250','251 - 350','351 - 430','430+'])\n",
    "    fig.savefig(saveFileName, dpi=600)\n",
    "    plt.close()\n",
    "\n",
    "    # Fig Ozone\n",
    "    fig, ax = plt.subplots(1, figsize=(10, 6))\n",
    "    ax.axis('off')\n",
    "    titleStr = \"District Wise Ozone Levels in India on \" + newDate.strftime(\"%d/%m/%y\")\n",
    "    ax.set_title(titleStr, fontdict={'fontsize': '25', 'fontweight' : '3'})\n",
    "    levels = [0, 1, 2, 3, 4, 5, 6, 7]\n",
    "    colors = ['gray', 'darkgreen', 'lawngreen', 'yellow', 'orange', 'red', 'maroon']\n",
    "    cMapNew, norm = matplotlib.colors.from_levels_and_colors(levels, colors)\n",
    "    saveFileName = \"Ozone/\" + str + \".png\"\n",
    "    underlay = completeMap_df.plot(color = 'gray',linewidth=0, edgecolor='0.1',ax=ax)\n",
    "    ozoneplot = ozonemerged.plot(column=str, cmap=cMapNew, norm = norm, linewidth=0, ax=ax, edgecolor='0.1', legend=True)\n",
    "    #ozoneplot.legend(['Data Unavailable', '0 - 50','51 - 100','101 - 168','169 - 208','209 - 748','748+'])\n",
    "    fig.savefig(saveFileName, dpi=600)\n",
    "    plt.close()"
   ]
  },
  {
   "cell_type": "code",
   "execution_count": 8,
   "metadata": {},
   "outputs": [],
   "source": [
    "#Debug Cell\n",
    "#str = \"Day 1\"\n",
    "#fig, ax = plt.subplots(1, figsize=(10, 6))\n",
    "#ax.axis('off')\n",
    "#levels = [0, 1, 2, 3, 4, 5, 6, 7]\n",
    "#colors = ['gray', 'darkgreen', 'lawngreen', 'yellow', 'orange', 'red', 'maroon']\n",
    "#cMapNew, norm = matplotlib.colors.from_levels_and_colors(levels, colors)\n",
    "#pm2p5merged.plot(column = str, cmap=cMapNew, linewidth=0, ax=ax, edgecolor='0.1', legend=True)"
   ]
  }
 ],
 "metadata": {
  "kernelspec": {
   "display_name": "Python 3.7.2 64-bit",
   "language": "python",
   "name": "python37264bitefdd2b3f380145f7b1300b6cf9865033"
  },
  "language_info": {
   "codemirror_mode": {
    "name": "ipython",
    "version": 3
   },
   "file_extension": ".py",
   "mimetype": "text/x-python",
   "name": "python",
   "nbconvert_exporter": "python",
   "pygments_lexer": "ipython3",
   "version": "3.7.7-final"
  }
 },
 "nbformat": 4,
 "nbformat_minor": 4
}